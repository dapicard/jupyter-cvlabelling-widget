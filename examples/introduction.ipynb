{
 "cells": [
  {
   "cell_type": "markdown",
   "metadata": {},
   "source": [
    "# jupyter-cvlabelling-widget\n",
    "cvlabelling is a Jupyter widget that allow to capture some computer vision datasets in different ways.\n",
    "Currently, this widget supports these functions :\n",
    "\n",
    "## CaptureAndClassify\n",
    "Capture samples from a source using the mouse and the keyboard. Classify the samples using a keyboard --> classname binding"
   ]
  },
  {
   "cell_type": "code",
   "execution_count": 1,
   "metadata": {},
   "outputs": [],
   "source": [
    "import cv2\n",
    "from jupyter_cvlabelling_widget import WorkzoneWidget\n",
    "from jupyter_cvlabelling_widget.model import Configuration, Shape, ShapeType\n",
    "from jupyter_cvlabelling_widget.functions import CaptureAndClassify\n",
    "from jupyter_cvlabelling_widget.source import CV2VideoSource\n",
    "from jupyter_cvlabelling_widget.destination import FileSystemClassifyStore"
   ]
  },
  {
   "cell_type": "markdown",
   "metadata": {},
   "source": [
    "### A typical CaptureAndClassify example\n",
    "- The input is a Video, read using OpenCV\n",
    "- The function is CaptureAndClassify, allowing :\n",
    "    - to capture samples in the source image\n",
    "    - to classify the sample using a keyboard key --> class name binding\n",
    "    - to review the previously captured samples and to drop them if needed\n",
    "- The capture shape is a rectangle with the default size 25x25\n",
    "- The capture shape size can be changed using the mouse wheel\n",
    "- The source images can be moved forward using the mouse click\n",
    "\n",
    "![Workzone](images/workzone.png)"
   ]
  },
  {
   "cell_type": "code",
   "execution_count": 2,
   "metadata": {},
   "outputs": [
    {
     "data": {
      "application/vnd.jupyter.widget-view+json": {
       "model_id": "64ee72498df44085a098c1afcc058719",
       "version_major": 2,
       "version_minor": 0
      },
      "text/plain": [
       "WorkzoneWidget(configuration=<jupyter_cvlabelling_widget.model.configuration.Configuration object at 0x7f96f95…"
      ]
     },
     "metadata": {},
     "output_type": "display_data"
    }
   ],
   "source": [
    "w = WorkzoneWidget()\n",
    "w.source = CV2VideoSource('/home/damien/Vidéos/cam1-2018.11.22-16.21.04.avi')\n",
    "w.configuration = Configuration(\n",
    "    function=CaptureAndClassify(\n",
    "        store=FileSystemClassifyStore(\"/home/damien/Images/captures/\", \"capture{}.png\", ['number', 'ball']),\n",
    "        shape=Shape(ShapeType.RECT, 25, 25),\n",
    "        keyclass_binding= {\n",
    "            'KeyN': 'number',\n",
    "            'KeyB': 'ball'\n",
    "        }\n",
    "    )\n",
    ")\n",
    "w.grab_image()\n",
    "w"
   ]
  },
  {
   "cell_type": "code",
   "execution_count": null,
   "metadata": {},
   "outputs": [],
   "source": []
  }
 ],
 "metadata": {
  "kernelspec": {
   "display_name": "Python 3",
   "language": "python",
   "name": "python3"
  },
  "language_info": {
   "codemirror_mode": {
    "name": "ipython",
    "version": 3
   },
   "file_extension": ".py",
   "mimetype": "text/x-python",
   "name": "python",
   "nbconvert_exporter": "python",
   "pygments_lexer": "ipython3",
   "version": "3.6.7"
  }
 },
 "nbformat": 4,
 "nbformat_minor": 2
}
