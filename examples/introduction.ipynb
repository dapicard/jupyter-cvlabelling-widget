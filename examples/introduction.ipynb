{
 "cells": [
  {
   "cell_type": "markdown",
   "metadata": {},
   "source": [
    "# Introduction"
   ]
  },
  {
   "cell_type": "code",
   "execution_count": 33,
   "metadata": {},
   "outputs": [],
   "source": [
    "import jupyter_cvlabelling_widget\n",
    "import cv2"
   ]
  },
  {
   "cell_type": "code",
   "execution_count": 34,
   "metadata": {},
   "outputs": [
    {
     "data": {
      "application/vnd.jupyter.widget-view+json": {
       "model_id": "45ca827c79814d0b8906bc41c5941db4",
       "version_major": 2,
       "version_minor": 0
      },
      "text/plain": [
       "WorkzoneWidget(image='data:image/png;base64,iVBORw0KGgoAAAANSUhEUgAAB4AAAAQ4CAAAAADNuJ6fAAEAAElEQVR4nOT9WcxkSZ…"
      ]
     },
     "metadata": {},
     "output_type": "display_data"
    }
   ],
   "source": [
    "w = jupyter_cvlabelling_widget.WorkzoneWidget()\n",
    "w.capture = cv2.VideoCapture('/home/damien/Vidéos/cam1-2018.11.22-16.21.04.avi')\n",
    "w.capture_store = jupyter_cvlabelling_widget.FileSystemCaptureStore(\"/home/damien/Images/captures/\", \"capture%s.png\")\n",
    "w.grab_image()\n",
    "w"
   ]
  },
  {
   "cell_type": "code",
   "execution_count": null,
   "metadata": {},
   "outputs": [],
   "source": []
  }
 ],
 "metadata": {
  "kernelspec": {
   "display_name": "Python 3",
   "language": "python",
   "name": "python3"
  },
  "language_info": {
   "codemirror_mode": {
    "name": "ipython",
    "version": 3
   },
   "file_extension": ".py",
   "mimetype": "text/x-python",
   "name": "python",
   "nbconvert_exporter": "python",
   "pygments_lexer": "ipython3",
   "version": "3.6.7"
  }
 },
 "nbformat": 4,
 "nbformat_minor": 2
}
