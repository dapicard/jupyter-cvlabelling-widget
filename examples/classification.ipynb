{
 "cells": [
  {
   "cell_type": "markdown",
   "metadata": {},
   "source": [
    "# Glob classification example\n",
    "This notebook demonstrates how to classify images using Glob expression and Classification function"
   ]
  },
  {
   "cell_type": "code",
   "execution_count": 1,
   "metadata": {},
   "outputs": [],
   "source": [
    "from jupyter_cvlabelling_widget import WorkzoneWidget\n",
    "from jupyter_cvlabelling_widget.model import Configuration, Shape, ShapeType\n",
    "from jupyter_cvlabelling_widget.functions import Classify\n",
    "from jupyter_cvlabelling_widget.source import GlobSource\n",
    "from jupyter_cvlabelling_widget.destination import FileSystemClassifyStore"
   ]
  },
  {
   "cell_type": "markdown",
   "metadata": {},
   "source": [
    "## A typical Classify example\n",
    "- The input is a glob expression, pointing on multiple folders\n",
    "- The function is Classify, allowing :\n",
    "    - to classify input images using a keyboard key --> class name binding\n",
    "    - to review the previously classified samples and to drop them if needed\n",
    "- The source images can be moved forward using the mouse click\n",
    "\n",
    "![Workzone-classify](images/classify-workzone.png)"
   ]
  },
  {
   "cell_type": "code",
   "execution_count": 2,
   "metadata": {},
   "outputs": [
    {
     "data": {
      "application/vnd.jupyter.widget-view+json": {
       "model_id": "d9967fa584ea474e9fed6d89b74725a3",
       "version_major": 2,
       "version_minor": 0
      },
      "text/plain": [
       "WorkzoneWidget(configuration=<jupyter_cvlabelling_widget.model.configuration.Configuration object at 0x7f42bb8…"
      ]
     },
     "metadata": {},
     "output_type": "display_data"
    }
   ],
   "source": [
    "w = WorkzoneWidget()\n",
    "w.source = GlobSource('/home/damien/Images/captures/*/*.png')\n",
    "w.configuration = Configuration(\n",
    "    function=Classify(\n",
    "        store=FileSystemClassifyStore(\"/home/damien/Images/captures2/\", \"capture{}.png\", ['number', 'ball']),\n",
    "        keyclass_binding= {\n",
    "            'KeyN': 'number',\n",
    "            'KeyB': 'ball'\n",
    "        }\n",
    "    )\n",
    ")\n",
    "w.grab_image()\n",
    "w"
   ]
  },
  {
   "cell_type": "code",
   "execution_count": null,
   "metadata": {},
   "outputs": [],
   "source": []
  }
 ],
 "metadata": {
  "kernelspec": {
   "display_name": "Python 3",
   "language": "python",
   "name": "python3"
  },
  "language_info": {
   "codemirror_mode": {
    "name": "ipython",
    "version": 3
   },
   "file_extension": ".py",
   "mimetype": "text/x-python",
   "name": "python",
   "nbconvert_exporter": "python",
   "pygments_lexer": "ipython3",
   "version": "3.6.7"
  }
 },
 "nbformat": 4,
 "nbformat_minor": 2
}
