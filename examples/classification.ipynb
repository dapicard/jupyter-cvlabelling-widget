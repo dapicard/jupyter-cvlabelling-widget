{
 "cells": [
  {
   "cell_type": "markdown",
   "metadata": {},
   "source": [
    "# Glob classification example\n",
    "This notebook demonstrates how to classify images using Glob expression and Classification function"
   ]
  },
  {
   "cell_type": "code",
   "execution_count": 1,
   "metadata": {},
   "outputs": [],
   "source": [
    "from jupyter_cvlabelling_widget import WorkzoneWidget, FileSystemClassifyStore\n",
    "from jupyter_cvlabelling_widget.model import Configuration, Shape, ShapeType\n",
    "from jupyter_cvlabelling_widget.functions import CaptureAndClassify\n",
    "from jupyter_cvlabelling_widget.source import GlobSource"
   ]
  },
  {
   "cell_type": "code",
   "execution_count": 2,
   "metadata": {},
   "outputs": [
    {
     "data": {
      "application/vnd.jupyter.widget-view+json": {
       "model_id": "21a322df127240dc9b62d44de4016f90",
       "version_major": 2,
       "version_minor": 0
      },
      "text/plain": [
       "WorkzoneWidget(configuration=<jupyter_cvlabelling_widget.model.configuration.Configuration object at 0x7fb1a0a…"
      ]
     },
     "metadata": {},
     "output_type": "display_data"
    }
   ],
   "source": [
    "w = WorkzoneWidget()\n",
    "w.source = GlobSource('/home/damien/Images/captures/number/*.png')\n",
    "w.configuration = Configuration(\n",
    "    function=CaptureAndClassify(\n",
    "        store=FileSystemClassifyStore(\"/home/damien/Images/captures/\", \"capture{}.png\", ['number', 'ball']),\n",
    "        shape=Shape(ShapeType.RECT, 25, 25),\n",
    "        keyclass_binding= {\n",
    "            'KeyN': 'number',\n",
    "            'KeyB': 'ball'\n",
    "        }\n",
    "    )\n",
    ")\n",
    "w.grab_image()\n",
    "w"
   ]
  },
  {
   "cell_type": "code",
   "execution_count": null,
   "metadata": {},
   "outputs": [],
   "source": []
  }
 ],
 "metadata": {
  "kernelspec": {
   "display_name": "Python 3",
   "language": "python",
   "name": "python3"
  },
  "language_info": {
   "codemirror_mode": {
    "name": "ipython",
    "version": 3
   },
   "file_extension": ".py",
   "mimetype": "text/x-python",
   "name": "python",
   "nbconvert_exporter": "python",
   "pygments_lexer": "ipython3",
   "version": "3.6.7"
  }
 },
 "nbformat": 4,
 "nbformat_minor": 2
}
